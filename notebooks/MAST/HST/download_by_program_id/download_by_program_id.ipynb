{
 "cells": [
  {
   "cell_type": "markdown",
   "metadata": {},
   "source": [
    "<a id=\"top\"></a>\n",
    "# Downloading HST Data by Proposal"
   ]
  },
  {
   "cell_type": "markdown",
   "metadata": {},
   "source": [
    "This tutorial is aimed at researchers of any level looking for _specific_ observations from a HST program. It will cover the basics of authentication, data search, and data downloads.\n",
    "\n",
    "By the end of this tutorial, you will:\n",
    "\n",
    "* Know to how to login/logout to access data in astroquery.\n",
    "* Be able to search for data based on proposal ID.\n",
    "* Download filtered data products from the MAST Archive.\n",
    "\n",
    "## Table of Contents\n",
    "* [Imports](#Imports)\n",
    "* [Proprietary Data: Logging In/Out](#log)\n",
    "* [Searching for HST Observations](#search)\n",
    "* [Getting Associated Data Products](#adp)\n",
    "* [Filtering and Downloading Data](#filtdown)\n",
    "    * [Filtering for Desired Products](#filt)\n",
    "    * [Direct Downloads](#direct)\n",
    "    * [Downloading via cURL](#curl)"
   ]
  },
  {
   "cell_type": "markdown",
   "metadata": {},
   "source": [
    "## Imports\n",
    "The `astroquery.mast` module is the quickest, most convenient way to get to access MAST data in Python. To read more about its features, visit the [astroquery.mast readthedocs](https://astroquery.readthedocs.io/en/latest/mast/mast.html).\n",
    "\n",
    "The `Observations` class is the only import we'll need."
   ]
  },
  {
   "cell_type": "code",
   "execution_count": 1,
   "metadata": {},
   "outputs": [],
   "source": [
    "from astroquery.mast import Observations"
   ]
  },
  {
   "cell_type": "markdown",
   "metadata": {},
   "source": [
    "---\n",
    "<a id=\"log\"></a>\n",
    "## Proprietary Data: Logging In/Out\n",
    "Most datasets in MAST are publicly accessible. However, during the exclusive access period (EAP), observations are only available to the PI and their team. Accessing this data requires authentication.\n",
    "\n",
    "To start accessing proprietary data, you'll need an authorized [MyST account](https://archive.stsci.edu/registration/index.html).\n",
    "\n",
    "For access through the API, you'll need to generate an API token. To create and view tokens associated with your account, visit https://auth.mast.stsci.edu/tokens.\n",
    "\n",
    "There are several ways to enter your token, including:\n",
    "1. Manual response to prompt from `Observations.login()` (must be done every time)\n",
    "2. Python keyring; either through the `keyring` library or `Observations.login`\n",
    "3. Storing it in the bash environment variable `$MAST-API-TOKEN`\n",
    "\n",
    "This flexiblility can overwhelming at first; let's take a look at some examples of these methods below."
   ]
  },
  {
   "cell_type": "code",
   "execution_count": null,
   "metadata": {},
   "outputs": [],
   "source": [
    "# Option 1: Respond to prompt. Uncomment the line below to use this option.\n",
    "#Observations.login()"
   ]
  },
  {
   "cell_type": "markdown",
   "metadata": {},
   "source": [
    "This works well for infrequent API users, but storing the token is far more convenient for repeated logins. You can conveniently store the token using the built-in `store_token` flag:"
   ]
  },
  {
   "cell_type": "code",
   "execution_count": null,
   "metadata": {},
   "outputs": [],
   "source": [
    "# Option 2: Store Token. Uncomment the line below to use this option.\n",
    "#Observations.login(store_token=True)"
   ]
  },
  {
   "cell_type": "markdown",
   "metadata": {},
   "source": [
    "Using 'store_token' will allow us to automatically log in, without needing to re-enter the token, for as long as the token remains valid. Note that tokens expire after 10 days of inactivity, or 60 days after creation, whichever comes first. Once it expires, you should use `reenter_token=True` to overwrite the old token with the new one.\n",
    "\n",
    "The third option is to store the token as the bash environment variable `$MAST_API_TOKEN`. This method varies from system to system; for more details, you can check out [this guide](https://www3.ntu.edu.sg/home/ehchua/programming/howto/Environment_Variables.html) (links to a non-STScI site).\n",
    "\n",
    "Let's take a minute to verify that our login was successful:"
   ]
  },
  {
   "cell_type": "code",
   "execution_count": null,
   "metadata": {},
   "outputs": [],
   "source": [
    "session_info = Observations.session_info()"
   ]
  },
  {
   "cell_type": "markdown",
   "metadata": {},
   "source": [
    "You should see all of your information above. If not, verify that your token and MyST account are active.\n",
    "\n",
    "And of course, if the need arises, we can logout:"
   ]
  },
  {
   "cell_type": "code",
   "execution_count": null,
   "metadata": {},
   "outputs": [],
   "source": [
    "Observations.logout()\n",
    "session_info = Observations.session_info()"
   ]
  },
  {
   "cell_type": "markdown",
   "metadata": {},
   "source": [
    "<a id=\"search\"></a>\n",
    "## Searching for HST Observations\n",
    "The `query_criteria` function is the most versatile option for searching for your data. We'll use this to specify a proposal ID, but you can also find a list of all other available filters on the [field descriptions page](https://mast.stsci.edu/api/v0/_c_a_o_mfields.html)."
   ]
  },
  {
   "cell_type": "code",
   "execution_count": 15,
   "metadata": {},
   "outputs": [
    {
     "name": "stdout",
     "output_type": "stream",
     "text": [
      "Number of observations: 5\n"
     ]
    }
   ],
   "source": [
    "proposal_obs = Observations.query_criteria(proposal_id=7291)\n",
    "print(\"Number of observations:\",len(proposal_obs))"
   ]
  },
  {
   "cell_type": "markdown",
   "metadata": {},
   "source": [
    "To look at the first five results returned by this query, run the cell below."
   ]
  },
  {
   "cell_type": "code",
   "execution_count": 16,
   "metadata": {
    "scrolled": true
   },
   "outputs": [
    {
     "data": {
      "text/html": [
       "<div><i>Table masked=True length=5</i>\n",
       "<table id=\"table140389740043136\" class=\"table-striped table-bordered table-condensed\">\n",
       "<thead><tr><th>dataproduct_type</th><th>calib_level</th><th>obs_collection</th><th>obs_id</th><th>target_name</th><th>s_ra</th><th>s_dec</th><th>t_min</th><th>t_max</th><th>t_exptime</th><th>wavelength_region</th><th>filters</th><th>em_min</th><th>em_max</th><th>target_classification</th><th>obs_title</th><th>t_obs_release</th><th>instrument_name</th><th>proposal_pi</th><th>proposal_id</th><th>proposal_type</th><th>project</th><th>sequence_number</th><th>provenance_name</th><th>s_region</th><th>jpegURL</th><th>dataURL</th><th>dataRights</th><th>mtFlag</th><th>srcDen</th><th>intentType</th><th>obsid</th><th>objID</th></tr></thead>\n",
       "<thead><tr><th>str8</th><th>int64</th><th>str3</th><th>str9</th><th>str7</th><th>float64</th><th>float64</th><th>float64</th><th>float64</th><th>float64</th><th>str7</th><th>str6</th><th>float64</th><th>float64</th><th>str6</th><th>str48</th><th>float64</th><th>str13</th><th>str16</th><th>str4</th><th>str2</th><th>str3</th><th>int64</th><th>str7</th><th>str132</th><th>str34</th><th>str35</th><th>str6</th><th>bool</th><th>float64</th><th>str7</th><th>str8</th><th>str9</th></tr></thead>\n",
       "<tr><td>spectrum</td><td>3</td><td>HST</td><td>o58701010</td><td>TON1480</td><td>183.7882083333</td><td>33.16516666667</td><td>51190.014617326386</td><td>51190.0397909375</td><td>2175.0</td><td>UV</td><td>G140L</td><td>115.0</td><td>173.0</td><td>GALAXY</td><td>Cooled Gas in X-Ray Emitting Elliptical Galaxies</td><td>51555.03978005</td><td>STIS/FUV-MAMA</td><td>Bregman, Joel N.</td><td>7291</td><td>GO</td><td>HST</td><td>--</td><td>CALSTIS</td><td>POLYGON 183.79519926 33.16953302 183.78125026 33.16059724 183.78122982 33.16061959 183.79517882 33.16955537 183.79519926 33.16953302</td><td>mast:HST/product/o58701010_x1d.png</td><td>mast:HST/product/o58701010_flt.fits</td><td>PUBLIC</td><td>False</td><td>nan</td><td>science</td><td>24919901</td><td>153504018</td></tr>\n",
       "<tr><td>spectrum</td><td>3</td><td>HST</td><td>o58701030</td><td>TON1480</td><td>183.7882083333</td><td>33.16516666667</td><td>51190.13977920139</td><td>51190.173887997684</td><td>2947.0</td><td>UV</td><td>G140L</td><td>115.0</td><td>173.0</td><td>GALAXY</td><td>Cooled Gas in X-Ray Emitting Elliptical Galaxies</td><td>51555.1738773</td><td>STIS/FUV-MAMA</td><td>Bregman, Joel N.</td><td>7291</td><td>GO</td><td>HST</td><td>--</td><td>CALSTIS</td><td>POLYGON 183.79519926 33.16953302 183.78125026 33.16059724 183.78122982 33.16061959 183.79517882 33.16955537 183.79519926 33.16953302</td><td>mast:HST/product/o58701030_x1d.png</td><td>mast:HST/product/o58701030_flt.fits</td><td>PUBLIC</td><td>False</td><td>nan</td><td>science</td><td>24919903</td><td>153503852</td></tr>\n",
       "<tr><td>image</td><td>1</td><td>HST</td><td>o58701byq</td><td>TON1480</td><td>183.7882083333</td><td>33.16516666667</td><td>51190.00671253472</td><td>51190.008728506946</td><td>1.5</td><td>Optical</td><td>MIRVIS</td><td>nan</td><td>nan</td><td>GALAXY</td><td>Cooled Gas in X-Ray Emitting Elliptical Galaxies</td><td>51555.00872681</td><td>STIS/CCD</td><td>Bregman, Joel N.</td><td>7291</td><td>GO</td><td>HST</td><td>--</td><td>CALSTIS</td><td>POLYGON 183.79705483 33.16183874 183.78950215 33.15707092 183.77936635 33.16832094 183.78691941 33.17308937 183.79705483 33.16183874</td><td>--</td><td>mast:HST/product/o58701byq_raw.fits</td><td>PUBLIC</td><td>False</td><td>nan</td><td>science</td><td>24454469</td><td>121753849</td></tr>\n",
       "<tr><td>spectrum</td><td>3</td><td>HST</td><td>o58701020</td><td>TON1480</td><td>183.7882083333</td><td>33.16516666667</td><td>51190.07262658565</td><td>51190.106735416666</td><td>2947.0</td><td>UV</td><td>G140L</td><td>115.0</td><td>173.0</td><td>GALAXY</td><td>Cooled Gas in X-Ray Emitting Elliptical Galaxies</td><td>51555.10672453</td><td>STIS/FUV-MAMA</td><td>Bregman, Joel N.</td><td>7291</td><td>GO</td><td>HST</td><td>--</td><td>CALSTIS</td><td>POLYGON 183.79519926 33.16953302 183.78125026 33.16059724 183.78122982 33.16061959 183.79517882 33.16955537 183.79519926 33.16953302</td><td>mast:HST/product/o58701020_x1d.png</td><td>mast:HST/product/o58701020_flt.fits</td><td>PUBLIC</td><td>False</td><td>nan</td><td>science</td><td>24919902</td><td>153503579</td></tr>\n",
       "<tr><td>image</td><td>1</td><td>HST</td><td>o58701bzq</td><td>TON1480</td><td>183.7882083333</td><td>33.16516666667</td><td>51190.01169290509</td><td>51190.011701006944</td><td>0.7</td><td>Optical</td><td>MIRVIS</td><td>nan</td><td>nan</td><td>GALAXY</td><td>Cooled Gas in X-Ray Emitting Elliptical Galaxies</td><td>51555.0116898</td><td>STIS/CCD</td><td>Bregman, Joel N.</td><td>7291</td><td>GO</td><td>HST</td><td>--</td><td>CALSTIS</td><td>POLYGON 183.79519926 33.16953302 183.78125026 33.16059724 183.78122982 33.16061959 183.79517882 33.16955537 183.79519926 33.16953302</td><td>--</td><td>mast:HST/product/o58701bzq_raw.fits</td><td>PUBLIC</td><td>False</td><td>nan</td><td>science</td><td>24454470</td><td>124583200</td></tr>\n",
       "</table></div>"
      ],
      "text/plain": [
       "<Table masked=True length=5>\n",
       "dataproduct_type calib_level obs_collection ... intentType  obsid     objID  \n",
       "      str8          int64         str3      ...    str7      str8      str9  \n",
       "---------------- ----------- -------------- ... ---------- -------- ---------\n",
       "        spectrum           3            HST ...    science 24919901 153504018\n",
       "        spectrum           3            HST ...    science 24919903 153503852\n",
       "           image           1            HST ...    science 24454469 121753849\n",
       "        spectrum           3            HST ...    science 24919902 153503579\n",
       "           image           1            HST ...    science 24454470 124583200"
      ]
     },
     "execution_count": 16,
     "metadata": {},
     "output_type": "execute_result"
    }
   ],
   "source": [
    "# Preview the first five observations in a table\n",
    "proposal_obs"
   ]
  },
  {
   "cell_type": "markdown",
   "metadata": {
    "tags": []
   },
   "source": [
    "<a id=\"adp\"></a>\n",
    "## Gettting Associated Data Products\n",
    "\n",
    "Let's get the data products associated with the first two observations."
   ]
  },
  {
   "cell_type": "code",
   "execution_count": 17,
   "metadata": {},
   "outputs": [
    {
     "name": "stdout",
     "output_type": "stream",
     "text": [
      "Number of results: 30\n",
      " obsID   obs_collection dataproduct_type ... dataRights calib_level\n",
      "-------- -------------- ---------------- ... ---------- -----------\n",
      "24919901            HST         spectrum ...     PUBLIC           1\n",
      "24919901            HST         spectrum ...     PUBLIC           1\n",
      "24919901            HST         spectrum ...     PUBLIC           1\n",
      "24919901            HST         spectrum ...     PUBLIC           1\n",
      "24919901            HST         spectrum ...     PUBLIC           1\n",
      "24919901            HST         spectrum ...     PUBLIC           1\n",
      "     ...            ...              ... ...        ...         ...\n",
      "24919903            HST         spectrum ...     PUBLIC           1\n",
      "24919903            HST         spectrum ...     PUBLIC           2\n",
      "24919903            HST         spectrum ...     PUBLIC           1\n",
      "24919903            HST         spectrum ...     PUBLIC           2\n",
      "24919903            HST         spectrum ...     PUBLIC           2\n",
      "24919903            HST         spectrum ...     PUBLIC           2\n",
      "Length = 30 rows\n"
     ]
    }
   ],
   "source": [
    "data_products = Observations.get_product_list(proposal_obs[0:2])\n",
    "\n",
    "# Print the results\n",
    "print(\"Number of results:\",len(data_products))\n",
    "print(data_products)"
   ]
  },
  {
   "cell_type": "markdown",
   "metadata": {},
   "source": [
    "Note that even though we used just two observations, there are thirty data products available for download. "
   ]
  },
  {
   "cell_type": "markdown",
   "metadata": {},
   "source": [
    "<a id=\"filtdown\"></a>\n",
    "## Filtering and Downloading Data\n",
    "<a id=\"filt\"></a>\n",
    "### Filtering for Desired Products\n",
    "\n",
    "You can apply filter keyword arguments to download only data products that meet your given criteria. Available filters are “mrp_only” ([minimum recommended products](https://outerspace.stsci.edu/display/MASTDOCS/Minimum+Recommended+Products)), “extension” (file extension), calib_level (calibration level), and all products fields listed [here](https://mast.stsci.edu/api/v0/_productsfields.html).\n",
    "\n",
    "In this example, let's try filtering for only the level 2, calibrated exposures. Let's also filter by \"SCIENCE\" type products; this will exclude the preview images from our download."
   ]
  },
  {
   "cell_type": "code",
   "execution_count": 24,
   "metadata": {},
   "outputs": [
    {
     "data": {
      "text/html": [
       "<div><i>Table length=6</i>\n",
       "<table id=\"table140389611321328\" class=\"table-striped table-bordered table-condensed\">\n",
       "<thead><tr><th>obsID</th><th>dataproduct_type</th><th>productFilename</th><th>size</th><th>calib_level</th></tr></thead>\n",
       "<thead><tr><th>str8</th><th>str8</th><th>str18</th><th>int64</th><th>int64</th></tr></thead>\n",
       "<tr><td>24919901</td><td>spectrum</td><td>o58701010_x1d.fits</td><td>77760</td><td>2</td></tr>\n",
       "<tr><td>24919901</td><td>spectrum</td><td>o58701010_x2d.fits</td><td>14474880</td><td>2</td></tr>\n",
       "<tr><td>24919901</td><td>spectrum</td><td>o58701010_flt.fits</td><td>10535040</td><td>2</td></tr>\n",
       "<tr><td>24919903</td><td>spectrum</td><td>o58701030_x1d.fits</td><td>77760</td><td>2</td></tr>\n",
       "<tr><td>24919903</td><td>spectrum</td><td>o58701030_x2d.fits</td><td>14474880</td><td>2</td></tr>\n",
       "<tr><td>24919903</td><td>spectrum</td><td>o58701030_flt.fits</td><td>10535040</td><td>2</td></tr>\n",
       "</table></div>"
      ],
      "text/plain": [
       "<Table length=6>\n",
       " obsID   dataproduct_type  productFilename     size   calib_level\n",
       "  str8         str8             str18         int64      int64   \n",
       "-------- ---------------- ------------------ -------- -----------\n",
       "24919901         spectrum o58701010_x1d.fits    77760           2\n",
       "24919901         spectrum o58701010_x2d.fits 14474880           2\n",
       "24919901         spectrum o58701010_flt.fits 10535040           2\n",
       "24919903         spectrum o58701030_x1d.fits    77760           2\n",
       "24919903         spectrum o58701030_x2d.fits 14474880           2\n",
       "24919903         spectrum o58701030_flt.fits 10535040           2"
      ]
     },
     "execution_count": 24,
     "metadata": {},
     "output_type": "execute_result"
    }
   ],
   "source": [
    "filtered_prod = Observations.filter_products(data_products, calib_level=[2], productType=\"SCIENCE\")\n",
    "\n",
    "# Display columns of interest for convenience\n",
    "disp_col = ['obsID','dataproduct_type','productFilename','size','calib_level']\n",
    "filtered_prod[disp_col]"
   ]
  },
  {
   "cell_type": "markdown",
   "metadata": {},
   "source": [
    "We've reduced the number of files from 30 down to 6. Before we download, let's add up the sizes to make sure we have the necessary space on our computers to download."
   ]
  },
  {
   "cell_type": "code",
   "execution_count": 26,
   "metadata": {},
   "outputs": [
    {
     "name": "stdout",
     "output_type": "stream",
     "text": [
      "50.18 MB\n"
     ]
    }
   ],
   "source": [
    "total = sum(filtered_prod['size'])\n",
    "print('{:.2f} MB'.format(total/10**6))"
   ]
  },
  {
   "cell_type": "markdown",
   "metadata": {},
   "source": [
    "This isn't too bad. For selections greater than a few gigabytes, you should not attempt a direct download. Using cURL is more robust against connection issues.\n",
    "\n",
    "<a id=\"direct\"></a>\n",
    "### Direct Downloads\n",
    "Let's pass our filtered products to `download_products`. This will immediately send a request to MAST and begin the download. \n",
    "\n",
    "This function also produces a manifest that we'll want to capture and print."
   ]
  },
  {
   "cell_type": "code",
   "execution_count": 28,
   "metadata": {},
   "outputs": [
    {
     "name": "stdout",
     "output_type": "stream",
     "text": [
      "INFO: Found cached file ./mastDownload/HST/o58701010/o58701010_x1d.fits with expected size 77760. [astroquery.query]\n",
      "INFO: Found cached file ./mastDownload/HST/o58701010/o58701010_x2d.fits with expected size 14474880. [astroquery.query]\n",
      "INFO: Found cached file ./mastDownload/HST/o58701010/o58701010_flt.fits with expected size 10535040. [astroquery.query]\n",
      "INFO: Found cached file ./mastDownload/HST/o58701030/o58701030_x1d.fits with expected size 77760. [astroquery.query]\n",
      "INFO: Found cached file ./mastDownload/HST/o58701030/o58701030_x2d.fits with expected size 14474880. [astroquery.query]\n",
      "INFO: Found cached file ./mastDownload/HST/o58701030/o58701030_flt.fits with expected size 10535040. [astroquery.query]\n",
      "                   Local Path                    Status  Message URL \n",
      "----------------------------------------------- -------- ------- ----\n",
      "./mastDownload/HST/o58701010/o58701010_x1d.fits COMPLETE    None None\n",
      "./mastDownload/HST/o58701010/o58701010_x2d.fits COMPLETE    None None\n",
      "./mastDownload/HST/o58701010/o58701010_flt.fits COMPLETE    None None\n",
      "./mastDownload/HST/o58701030/o58701030_x1d.fits COMPLETE    None None\n",
      "./mastDownload/HST/o58701030/o58701030_x2d.fits COMPLETE    None None\n",
      "./mastDownload/HST/o58701030/o58701030_flt.fits COMPLETE    None None\n"
     ]
    }
   ],
   "source": [
    "manifest = Observations.download_products(filtered_prod)\n",
    "print(manifest)"
   ]
  },
  {
   "cell_type": "markdown",
   "metadata": {},
   "source": [
    "The helpful output from the manifest tells us where the file was downloaded to, as well as the status of the download. If there was an error, the 'Message' field will contain a description of what went wrong."
   ]
  },
  {
   "cell_type": "markdown",
   "metadata": {},
   "source": [
    "<a id=\"curl\"></a>\n",
    "### Download via cURL\n",
    "\n",
    "For large downloads, or those which contain many files, it is wise to use cURL. cURL is more robust against network disruptions, which is helpful when a download will take a while to complete.\n",
    "\n",
    "When we set `curl_flag=True`, we are actually only downloading a bash script (that uses cURL to download). You'll have to run the script on your local machine "
   ]
  },
  {
   "cell_type": "code",
   "execution_count": 31,
   "metadata": {},
   "outputs": [
    {
     "name": "stdout",
     "output_type": "stream",
     "text": [
      "Downloading URL https://mast.stsci.edu/api/v0.1/Download/bundle.sh to ./mastDownload_20230120115011.sh ... [Done]\n",
      "           Local Path             Status  Message\n",
      "-------------------------------- -------- -------\n",
      "./mastDownload_20230120115011.sh COMPLETE    None\n"
     ]
    }
   ],
   "source": [
    "manifest = Observations.download_products(filtered_prod, curl_flag=True)\n",
    "print(manifest)"
   ]
  },
  {
   "cell_type": "markdown",
   "metadata": {},
   "source": [
    "You can run the script in your terminal by navigating to the desired download location and typing `bash [filename].sh`. For Windows users, this will require [cygwin](https://www.cygwin.com) or other programs that support bash scripts. You may be prompted for your API token."
   ]
  },
  {
   "cell_type": "markdown",
   "metadata": {},
   "source": [
    "## About this Notebook\n",
    "For additonal questions, comments, or feedback, please email `archive@stsci.edu`. \n",
    "\n",
    "**Authors:** Thomas Dutkiewicz <br>\n",
    "**Keywords:** HST, MAST, authentication <br>\n",
    "**Last Updated:** Jan 2023 <br>\n",
    "\n",
    "## Citations\n",
    "\n",
    "If you use `astroquery` for published research, please [cite](https://github.com/astropy/astroquery/blob/main/astroquery/CITATION) the\n",
    "authors."
   ]
  },
  {
   "cell_type": "markdown",
   "metadata": {},
   "source": [
    "[Top of Page](#top)\n",
    "<img style=\"float: right;\" src=\"https://raw.githubusercontent.com/spacetelescope/notebooks/master/assets/stsci_pri_combo_mark_horizonal_white_bkgd.png\" alt=\"Space Telescope Logo\" width=\"200px\"/> "
   ]
  }
 ],
 "metadata": {
  "kernelspec": {
   "display_name": "Python 3 (ipykernel)",
   "language": "python",
   "name": "python3"
  },
  "language_info": {
   "codemirror_mode": {
    "name": "ipython",
    "version": 3
   },
   "file_extension": ".py",
   "mimetype": "text/x-python",
   "name": "python",
   "nbconvert_exporter": "python",
   "pygments_lexer": "ipython3",
   "version": "3.8.12"
  }
 },
 "nbformat": 4,
 "nbformat_minor": 4
}
